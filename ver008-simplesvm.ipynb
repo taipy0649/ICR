{
 "cells": [
  {
   "cell_type": "markdown",
   "id": "af096b1d",
   "metadata": {
    "_cell_guid": "b1076dfc-b9ad-4769-8c92-a6c4dae69d19",
    "_uuid": "8f2839f25d086af736a60e9eeb907d3b93b6e0e5",
    "papermill": {
     "duration": 0.006518,
     "end_time": "2023-05-24T05:48:52.362933",
     "exception": false,
     "start_time": "2023-05-24T05:48:52.356415",
     "status": "completed"
    },
    "tags": []
   },
   "source": [
    "# This Python 3 environment comes with many helpful analytics libraries installed\n",
    "# It is defined by the kaggle/python Docker image: https://github.com/kaggle/docker-python\n",
    "# For example, here's several helpful packages to load\n",
    "\n",
    "import numpy as np # linear algebra\n",
    "import pandas as pd # data processing, CSV file I/O (e.g. pd.read_csv)\n",
    "\n",
    "# Input data files are available in the read-only \"../input/\" directory\n",
    "# For example, running this (by clicking run or pressing Shift+Enter) will list all files under the input directory\n",
    "\n",
    "import os\n",
    "for dirname, _, filenames in os.walk('/kaggle/input'):\n",
    "    for filename in filenames:\n",
    "        print(os.path.join(dirname, filename))\n",
    "\n",
    "# You can write up to 20GB to the current directory (/kaggle/working/) that gets preserved as output when you create a version using \"Save & Run All\" \n",
    "# You can also write temporary files to /kaggle/temp/, but they won't be saved outside of the current session"
   ]
  },
  {
   "cell_type": "code",
   "execution_count": 1,
   "id": "3e576632",
   "metadata": {
    "execution": {
     "iopub.execute_input": "2023-05-24T05:48:52.377214Z",
     "iopub.status.busy": "2023-05-24T05:48:52.376692Z",
     "iopub.status.idle": "2023-05-24T05:48:53.865014Z",
     "shell.execute_reply": "2023-05-24T05:48:53.863983Z"
    },
    "papermill": {
     "duration": 1.498583,
     "end_time": "2023-05-24T05:48:53.867785",
     "exception": false,
     "start_time": "2023-05-24T05:48:52.369202",
     "status": "completed"
    },
    "tags": []
   },
   "outputs": [
    {
     "name": "stderr",
     "output_type": "stream",
     "text": [
      "/opt/conda/lib/python3.10/site-packages/scipy/__init__.py:146: UserWarning: A NumPy version >=1.16.5 and <1.23.0 is required for this version of SciPy (detected version 1.23.5\n",
      "  warnings.warn(f\"A NumPy version >={np_minversion} and <{np_maxversion}\"\n"
     ]
    }
   ],
   "source": [
    "import numpy as np\n",
    "from sklearn.pipeline import make_pipeline\n",
    "from sklearn.preprocessing import StandardScaler\n",
    "from sklearn.svm import SVC"
   ]
  },
  {
   "cell_type": "markdown",
   "id": "f8b2435e",
   "metadata": {
    "papermill": {
     "duration": 0.005929,
     "end_time": "2023-05-24T05:48:53.880014",
     "exception": false,
     "start_time": "2023-05-24T05:48:53.874085",
     "status": "completed"
    },
    "tags": []
   },
   "source": [
    "Overview\n",
    "Goal: make SVM model, simplest\n",
    "\n",
    "How:\n",
    "\n",
    "results:\n",
    "\n",
    "# Preprocess the data"
   ]
  },
  {
   "cell_type": "code",
   "execution_count": 2,
   "id": "cbef7ba0",
   "metadata": {
    "execution": {
     "iopub.execute_input": "2023-05-24T05:48:53.894893Z",
     "iopub.status.busy": "2023-05-24T05:48:53.894469Z",
     "iopub.status.idle": "2023-05-24T05:48:53.938515Z",
     "shell.execute_reply": "2023-05-24T05:48:53.937263Z"
    },
    "papermill": {
     "duration": 0.055193,
     "end_time": "2023-05-24T05:48:53.941924",
     "exception": false,
     "start_time": "2023-05-24T05:48:53.886731",
     "status": "completed"
    },
    "tags": []
   },
   "outputs": [],
   "source": [
    "import pandas as pd\n",
    "train = pd.read_csv(\"/kaggle/input/icr-identify-age-related-conditions/train.csv\")"
   ]
  },
  {
   "cell_type": "code",
   "execution_count": 3,
   "id": "b6871d0d",
   "metadata": {
    "execution": {
     "iopub.execute_input": "2023-05-24T05:48:53.957060Z",
     "iopub.status.busy": "2023-05-24T05:48:53.956607Z",
     "iopub.status.idle": "2023-05-24T05:48:53.999592Z",
     "shell.execute_reply": "2023-05-24T05:48:53.998175Z"
    },
    "papermill": {
     "duration": 0.054346,
     "end_time": "2023-05-24T05:48:54.002674",
     "exception": false,
     "start_time": "2023-05-24T05:48:53.948328",
     "status": "completed"
    },
    "tags": []
   },
   "outputs": [
    {
     "name": "stderr",
     "output_type": "stream",
     "text": [
      "/tmp/ipykernel_20/2829317812.py:6: FutureWarning: The default value of numeric_only in DataFrame.mean is deprecated. In a future version, it will default to False. In addition, specifying 'numeric_only=None' is deprecated. Select only valid columns or specify the value of numeric_only to silence this warning.\n",
      "  train = train.fillna(train.mean())\n"
     ]
    }
   ],
   "source": [
    "num_cols = train.columns.tolist()[1:-1]\n",
    "cat_cols = 'EJ'\n",
    "\n",
    "y = train['Class']\n",
    "train = train[num_cols]\n",
    "train = train.fillna(train.mean())\n",
    "\n",
    "from sklearn.preprocessing import LabelEncoder\n",
    "le = LabelEncoder()\n",
    "# fit メソッドでラベルを覚えさせる\n",
    "le.fit(train[\"EJ\"])\n",
    "# transform メソッドで数値に変換する\n",
    "train[\"EJ\"] = le.transform(train[\"EJ\"])"
   ]
  },
  {
   "cell_type": "code",
   "execution_count": 4,
   "id": "7eb09b2c",
   "metadata": {
    "execution": {
     "iopub.execute_input": "2023-05-24T05:48:54.017601Z",
     "iopub.status.busy": "2023-05-24T05:48:54.017201Z",
     "iopub.status.idle": "2023-05-24T05:48:54.022973Z",
     "shell.execute_reply": "2023-05-24T05:48:54.021614Z"
    },
    "papermill": {
     "duration": 0.016303,
     "end_time": "2023-05-24T05:48:54.025564",
     "exception": false,
     "start_time": "2023-05-24T05:48:54.009261",
     "status": "completed"
    },
    "tags": []
   },
   "outputs": [],
   "source": [
    "# from sklearn.preprocessing import StandardScaler\n",
    "# scaler = StandardScaler()\n",
    "\n",
    "\n",
    "# X = scaler.fit_transform(train)\n",
    "\n",
    "X = train"
   ]
  },
  {
   "cell_type": "markdown",
   "id": "ed5dd316",
   "metadata": {
    "papermill": {
     "duration": 0.007175,
     "end_time": "2023-05-24T05:48:54.039264",
     "exception": false,
     "start_time": "2023-05-24T05:48:54.032089",
     "status": "completed"
    },
    "tags": []
   },
   "source": [
    "# Build the model"
   ]
  },
  {
   "cell_type": "code",
   "execution_count": 5,
   "id": "f388b659",
   "metadata": {
    "execution": {
     "iopub.execute_input": "2023-05-24T05:48:54.054142Z",
     "iopub.status.busy": "2023-05-24T05:48:54.053709Z",
     "iopub.status.idle": "2023-05-24T05:48:54.148068Z",
     "shell.execute_reply": "2023-05-24T05:48:54.146900Z"
    },
    "papermill": {
     "duration": 0.104689,
     "end_time": "2023-05-24T05:48:54.150636",
     "exception": false,
     "start_time": "2023-05-24T05:48:54.045947",
     "status": "completed"
    },
    "tags": []
   },
   "outputs": [
    {
     "data": {
      "text/html": [
       "<style>#sk-container-id-1 {color: black;background-color: white;}#sk-container-id-1 pre{padding: 0;}#sk-container-id-1 div.sk-toggleable {background-color: white;}#sk-container-id-1 label.sk-toggleable__label {cursor: pointer;display: block;width: 100%;margin-bottom: 0;padding: 0.3em;box-sizing: border-box;text-align: center;}#sk-container-id-1 label.sk-toggleable__label-arrow:before {content: \"▸\";float: left;margin-right: 0.25em;color: #696969;}#sk-container-id-1 label.sk-toggleable__label-arrow:hover:before {color: black;}#sk-container-id-1 div.sk-estimator:hover label.sk-toggleable__label-arrow:before {color: black;}#sk-container-id-1 div.sk-toggleable__content {max-height: 0;max-width: 0;overflow: hidden;text-align: left;background-color: #f0f8ff;}#sk-container-id-1 div.sk-toggleable__content pre {margin: 0.2em;color: black;border-radius: 0.25em;background-color: #f0f8ff;}#sk-container-id-1 input.sk-toggleable__control:checked~div.sk-toggleable__content {max-height: 200px;max-width: 100%;overflow: auto;}#sk-container-id-1 input.sk-toggleable__control:checked~label.sk-toggleable__label-arrow:before {content: \"▾\";}#sk-container-id-1 div.sk-estimator input.sk-toggleable__control:checked~label.sk-toggleable__label {background-color: #d4ebff;}#sk-container-id-1 div.sk-label input.sk-toggleable__control:checked~label.sk-toggleable__label {background-color: #d4ebff;}#sk-container-id-1 input.sk-hidden--visually {border: 0;clip: rect(1px 1px 1px 1px);clip: rect(1px, 1px, 1px, 1px);height: 1px;margin: -1px;overflow: hidden;padding: 0;position: absolute;width: 1px;}#sk-container-id-1 div.sk-estimator {font-family: monospace;background-color: #f0f8ff;border: 1px dotted black;border-radius: 0.25em;box-sizing: border-box;margin-bottom: 0.5em;}#sk-container-id-1 div.sk-estimator:hover {background-color: #d4ebff;}#sk-container-id-1 div.sk-parallel-item::after {content: \"\";width: 100%;border-bottom: 1px solid gray;flex-grow: 1;}#sk-container-id-1 div.sk-label:hover label.sk-toggleable__label {background-color: #d4ebff;}#sk-container-id-1 div.sk-serial::before {content: \"\";position: absolute;border-left: 1px solid gray;box-sizing: border-box;top: 0;bottom: 0;left: 50%;z-index: 0;}#sk-container-id-1 div.sk-serial {display: flex;flex-direction: column;align-items: center;background-color: white;padding-right: 0.2em;padding-left: 0.2em;position: relative;}#sk-container-id-1 div.sk-item {position: relative;z-index: 1;}#sk-container-id-1 div.sk-parallel {display: flex;align-items: stretch;justify-content: center;background-color: white;position: relative;}#sk-container-id-1 div.sk-item::before, #sk-container-id-1 div.sk-parallel-item::before {content: \"\";position: absolute;border-left: 1px solid gray;box-sizing: border-box;top: 0;bottom: 0;left: 50%;z-index: -1;}#sk-container-id-1 div.sk-parallel-item {display: flex;flex-direction: column;z-index: 1;position: relative;background-color: white;}#sk-container-id-1 div.sk-parallel-item:first-child::after {align-self: flex-end;width: 50%;}#sk-container-id-1 div.sk-parallel-item:last-child::after {align-self: flex-start;width: 50%;}#sk-container-id-1 div.sk-parallel-item:only-child::after {width: 0;}#sk-container-id-1 div.sk-dashed-wrapped {border: 1px dashed gray;margin: 0 0.4em 0.5em 0.4em;box-sizing: border-box;padding-bottom: 0.4em;background-color: white;}#sk-container-id-1 div.sk-label label {font-family: monospace;font-weight: bold;display: inline-block;line-height: 1.2em;}#sk-container-id-1 div.sk-label-container {text-align: center;}#sk-container-id-1 div.sk-container {/* jupyter's `normalize.less` sets `[hidden] { display: none; }` but bootstrap.min.css set `[hidden] { display: none !important; }` so we also need the `!important` here to be able to override the default hidden behavior on the sphinx rendered scikit-learn.org. See: https://github.com/scikit-learn/scikit-learn/issues/21755 */display: inline-block !important;position: relative;}#sk-container-id-1 div.sk-text-repr-fallback {display: none;}</style><div id=\"sk-container-id-1\" class=\"sk-top-container\"><div class=\"sk-text-repr-fallback\"><pre>SVC(probability=True)</pre><b>In a Jupyter environment, please rerun this cell to show the HTML representation or trust the notebook. <br />On GitHub, the HTML representation is unable to render, please try loading this page with nbviewer.org.</b></div><div class=\"sk-container\" hidden><div class=\"sk-item\"><div class=\"sk-estimator sk-toggleable\"><input class=\"sk-toggleable__control sk-hidden--visually\" id=\"sk-estimator-id-1\" type=\"checkbox\" checked><label for=\"sk-estimator-id-1\" class=\"sk-toggleable__label sk-toggleable__label-arrow\">SVC</label><div class=\"sk-toggleable__content\"><pre>SVC(probability=True)</pre></div></div></div></div></div>"
      ],
      "text/plain": [
       "SVC(probability=True)"
      ]
     },
     "execution_count": 5,
     "metadata": {},
     "output_type": "execute_result"
    }
   ],
   "source": [
    "# make model\n",
    "from sklearn import svm\n",
    "clf = svm.SVC(probability=True)\n",
    "clf.fit(X, y)"
   ]
  },
  {
   "cell_type": "code",
   "execution_count": 6,
   "id": "739a8f90",
   "metadata": {
    "execution": {
     "iopub.execute_input": "2023-05-24T05:48:54.165854Z",
     "iopub.status.busy": "2023-05-24T05:48:54.165384Z",
     "iopub.status.idle": "2023-05-24T05:48:54.189990Z",
     "shell.execute_reply": "2023-05-24T05:48:54.188808Z"
    },
    "papermill": {
     "duration": 0.035351,
     "end_time": "2023-05-24T05:48:54.192533",
     "exception": false,
     "start_time": "2023-05-24T05:48:54.157182",
     "status": "completed"
    },
    "tags": []
   },
   "outputs": [
    {
     "data": {
      "text/plain": [
       "0.8444084278768234"
      ]
     },
     "execution_count": 6,
     "metadata": {},
     "output_type": "execute_result"
    }
   ],
   "source": [
    "# score\n",
    "clf.score(X, y)"
   ]
  },
  {
   "cell_type": "markdown",
   "id": "009eac55",
   "metadata": {
    "papermill": {
     "duration": 0.006379,
     "end_time": "2023-05-24T05:48:54.205617",
     "exception": false,
     "start_time": "2023-05-24T05:48:54.199238",
     "status": "completed"
    },
    "tags": []
   },
   "source": [
    "# Output the prediction results"
   ]
  },
  {
   "cell_type": "code",
   "execution_count": 7,
   "id": "427d6ffc",
   "metadata": {
    "execution": {
     "iopub.execute_input": "2023-05-24T05:48:54.221701Z",
     "iopub.status.busy": "2023-05-24T05:48:54.220966Z",
     "iopub.status.idle": "2023-05-24T05:48:54.235090Z",
     "shell.execute_reply": "2023-05-24T05:48:54.233945Z"
    },
    "papermill": {
     "duration": 0.025587,
     "end_time": "2023-05-24T05:48:54.237865",
     "exception": false,
     "start_time": "2023-05-24T05:48:54.212278",
     "status": "completed"
    },
    "tags": []
   },
   "outputs": [],
   "source": [
    "# load test data\n",
    "test_data = pd.read_csv(\"/kaggle/input/icr-identify-age-related-conditions/test.csv\")"
   ]
  },
  {
   "cell_type": "code",
   "execution_count": 8,
   "id": "42f50725",
   "metadata": {
    "execution": {
     "iopub.execute_input": "2023-05-24T05:48:54.255481Z",
     "iopub.status.busy": "2023-05-24T05:48:54.254962Z",
     "iopub.status.idle": "2023-05-24T05:48:54.262449Z",
     "shell.execute_reply": "2023-05-24T05:48:54.261230Z"
    },
    "papermill": {
     "duration": 0.020246,
     "end_time": "2023-05-24T05:48:54.265396",
     "exception": false,
     "start_time": "2023-05-24T05:48:54.245150",
     "status": "completed"
    },
    "tags": []
   },
   "outputs": [
    {
     "name": "stderr",
     "output_type": "stream",
     "text": [
      "/tmp/ipykernel_20/981880652.py:3: SettingWithCopyWarning: \n",
      "A value is trying to be set on a copy of a slice from a DataFrame.\n",
      "Try using .loc[row_indexer,col_indexer] = value instead\n",
      "\n",
      "See the caveats in the documentation: https://pandas.pydata.org/pandas-docs/stable/user_guide/indexing.html#returning-a-view-versus-a-copy\n",
      "  test[\"EJ\"] = le.transform(test[\"EJ\"])\n"
     ]
    }
   ],
   "source": [
    "test = test_data[num_cols]\n",
    "# encode a,b\n",
    "test[\"EJ\"] = le.transform(test[\"EJ\"])"
   ]
  },
  {
   "cell_type": "code",
   "execution_count": 9,
   "id": "dcf05a0f",
   "metadata": {
    "execution": {
     "iopub.execute_input": "2023-05-24T05:48:54.282133Z",
     "iopub.status.busy": "2023-05-24T05:48:54.281649Z",
     "iopub.status.idle": "2023-05-24T05:48:54.304846Z",
     "shell.execute_reply": "2023-05-24T05:48:54.303410Z"
    },
    "papermill": {
     "duration": 0.035494,
     "end_time": "2023-05-24T05:48:54.308031",
     "exception": false,
     "start_time": "2023-05-24T05:48:54.272537",
     "status": "completed"
    },
    "tags": []
   },
   "outputs": [],
   "source": [
    "# fill NaN\n",
    "test = test.fillna(test.mean())"
   ]
  },
  {
   "cell_type": "code",
   "execution_count": 10,
   "id": "bfe21f60",
   "metadata": {
    "execution": {
     "iopub.execute_input": "2023-05-24T05:48:54.324439Z",
     "iopub.status.busy": "2023-05-24T05:48:54.323421Z",
     "iopub.status.idle": "2023-05-24T05:48:54.333882Z",
     "shell.execute_reply": "2023-05-24T05:48:54.332808Z"
    },
    "papermill": {
     "duration": 0.021509,
     "end_time": "2023-05-24T05:48:54.336551",
     "exception": false,
     "start_time": "2023-05-24T05:48:54.315042",
     "status": "completed"
    },
    "tags": []
   },
   "outputs": [],
   "source": [
    "# predict probability\n",
    "predictions = clf.predict_proba(test)"
   ]
  },
  {
   "cell_type": "markdown",
   "id": "4ad4a151",
   "metadata": {
    "papermill": {
     "duration": 0.006633,
     "end_time": "2023-05-24T05:48:54.350267",
     "exception": false,
     "start_time": "2023-05-24T05:48:54.343634",
     "status": "completed"
    },
    "tags": []
   },
   "source": [
    "# Submit the prediction results"
   ]
  },
  {
   "cell_type": "code",
   "execution_count": 11,
   "id": "d7b70c1d",
   "metadata": {
    "execution": {
     "iopub.execute_input": "2023-05-24T05:48:54.366064Z",
     "iopub.status.busy": "2023-05-24T05:48:54.365358Z",
     "iopub.status.idle": "2023-05-24T05:48:54.388532Z",
     "shell.execute_reply": "2023-05-24T05:48:54.387190Z"
    },
    "papermill": {
     "duration": 0.034006,
     "end_time": "2023-05-24T05:48:54.391011",
     "exception": false,
     "start_time": "2023-05-24T05:48:54.357005",
     "status": "completed"
    },
    "tags": []
   },
   "outputs": [
    {
     "data": {
      "text/html": [
       "<div>\n",
       "<style scoped>\n",
       "    .dataframe tbody tr th:only-of-type {\n",
       "        vertical-align: middle;\n",
       "    }\n",
       "\n",
       "    .dataframe tbody tr th {\n",
       "        vertical-align: top;\n",
       "    }\n",
       "\n",
       "    .dataframe thead th {\n",
       "        text-align: right;\n",
       "    }\n",
       "</style>\n",
       "<table border=\"1\" class=\"dataframe\">\n",
       "  <thead>\n",
       "    <tr style=\"text-align: right;\">\n",
       "      <th></th>\n",
       "      <th>Id</th>\n",
       "    </tr>\n",
       "  </thead>\n",
       "  <tbody>\n",
       "    <tr>\n",
       "      <th>0</th>\n",
       "      <td>00eed32682bb</td>\n",
       "    </tr>\n",
       "    <tr>\n",
       "      <th>1</th>\n",
       "      <td>010ebe33f668</td>\n",
       "    </tr>\n",
       "    <tr>\n",
       "      <th>2</th>\n",
       "      <td>02fa521e1838</td>\n",
       "    </tr>\n",
       "    <tr>\n",
       "      <th>3</th>\n",
       "      <td>040e15f562a2</td>\n",
       "    </tr>\n",
       "    <tr>\n",
       "      <th>4</th>\n",
       "      <td>046e85c7cc7f</td>\n",
       "    </tr>\n",
       "  </tbody>\n",
       "</table>\n",
       "</div>"
      ],
      "text/plain": [
       "             Id\n",
       "0  00eed32682bb\n",
       "1  010ebe33f668\n",
       "2  02fa521e1838\n",
       "3  040e15f562a2\n",
       "4  046e85c7cc7f"
      ]
     },
     "execution_count": 11,
     "metadata": {},
     "output_type": "execute_result"
    }
   ],
   "source": [
    "sub = test_data[['Id']]\n",
    "sub"
   ]
  },
  {
   "cell_type": "code",
   "execution_count": 12,
   "id": "32a193aa",
   "metadata": {
    "execution": {
     "iopub.execute_input": "2023-05-24T05:48:54.407526Z",
     "iopub.status.busy": "2023-05-24T05:48:54.406334Z",
     "iopub.status.idle": "2023-05-24T05:48:54.421851Z",
     "shell.execute_reply": "2023-05-24T05:48:54.420411Z"
    },
    "papermill": {
     "duration": 0.026358,
     "end_time": "2023-05-24T05:48:54.424376",
     "exception": false,
     "start_time": "2023-05-24T05:48:54.398018",
     "status": "completed"
    },
    "tags": []
   },
   "outputs": [
    {
     "name": "stderr",
     "output_type": "stream",
     "text": [
      "/tmp/ipykernel_20/2915089584.py:1: SettingWithCopyWarning: \n",
      "A value is trying to be set on a copy of a slice from a DataFrame.\n",
      "Try using .loc[row_indexer,col_indexer] = value instead\n",
      "\n",
      "See the caveats in the documentation: https://pandas.pydata.org/pandas-docs/stable/user_guide/indexing.html#returning-a-view-versus-a-copy\n",
      "  sub[['Class_0','Class_1']] = predictions\n",
      "/tmp/ipykernel_20/2915089584.py:1: SettingWithCopyWarning: \n",
      "A value is trying to be set on a copy of a slice from a DataFrame.\n",
      "Try using .loc[row_indexer,col_indexer] = value instead\n",
      "\n",
      "See the caveats in the documentation: https://pandas.pydata.org/pandas-docs/stable/user_guide/indexing.html#returning-a-view-versus-a-copy\n",
      "  sub[['Class_0','Class_1']] = predictions\n"
     ]
    },
    {
     "data": {
      "text/html": [
       "<div>\n",
       "<style scoped>\n",
       "    .dataframe tbody tr th:only-of-type {\n",
       "        vertical-align: middle;\n",
       "    }\n",
       "\n",
       "    .dataframe tbody tr th {\n",
       "        vertical-align: top;\n",
       "    }\n",
       "\n",
       "    .dataframe thead th {\n",
       "        text-align: right;\n",
       "    }\n",
       "</style>\n",
       "<table border=\"1\" class=\"dataframe\">\n",
       "  <thead>\n",
       "    <tr style=\"text-align: right;\">\n",
       "      <th></th>\n",
       "      <th>Id</th>\n",
       "      <th>Class_0</th>\n",
       "      <th>Class_1</th>\n",
       "    </tr>\n",
       "  </thead>\n",
       "  <tbody>\n",
       "    <tr>\n",
       "      <th>0</th>\n",
       "      <td>00eed32682bb</td>\n",
       "      <td>0.829253</td>\n",
       "      <td>0.170747</td>\n",
       "    </tr>\n",
       "    <tr>\n",
       "      <th>1</th>\n",
       "      <td>010ebe33f668</td>\n",
       "      <td>0.829253</td>\n",
       "      <td>0.170747</td>\n",
       "    </tr>\n",
       "    <tr>\n",
       "      <th>2</th>\n",
       "      <td>02fa521e1838</td>\n",
       "      <td>0.829253</td>\n",
       "      <td>0.170747</td>\n",
       "    </tr>\n",
       "    <tr>\n",
       "      <th>3</th>\n",
       "      <td>040e15f562a2</td>\n",
       "      <td>0.829253</td>\n",
       "      <td>0.170747</td>\n",
       "    </tr>\n",
       "    <tr>\n",
       "      <th>4</th>\n",
       "      <td>046e85c7cc7f</td>\n",
       "      <td>0.829253</td>\n",
       "      <td>0.170747</td>\n",
       "    </tr>\n",
       "  </tbody>\n",
       "</table>\n",
       "</div>"
      ],
      "text/plain": [
       "             Id   Class_0   Class_1\n",
       "0  00eed32682bb  0.829253  0.170747\n",
       "1  010ebe33f668  0.829253  0.170747\n",
       "2  02fa521e1838  0.829253  0.170747\n",
       "3  040e15f562a2  0.829253  0.170747\n",
       "4  046e85c7cc7f  0.829253  0.170747"
      ]
     },
     "execution_count": 12,
     "metadata": {},
     "output_type": "execute_result"
    }
   ],
   "source": [
    "sub[['Class_0','Class_1']] = predictions\n",
    "sub"
   ]
  },
  {
   "cell_type": "code",
   "execution_count": 13,
   "id": "6655d217",
   "metadata": {
    "execution": {
     "iopub.execute_input": "2023-05-24T05:48:54.442363Z",
     "iopub.status.busy": "2023-05-24T05:48:54.441065Z",
     "iopub.status.idle": "2023-05-24T05:48:54.460069Z",
     "shell.execute_reply": "2023-05-24T05:48:54.458848Z"
    },
    "papermill": {
     "duration": 0.030865,
     "end_time": "2023-05-24T05:48:54.462708",
     "exception": false,
     "start_time": "2023-05-24T05:48:54.431843",
     "status": "completed"
    },
    "tags": []
   },
   "outputs": [
    {
     "data": {
      "text/html": [
       "<div>\n",
       "<style scoped>\n",
       "    .dataframe tbody tr th:only-of-type {\n",
       "        vertical-align: middle;\n",
       "    }\n",
       "\n",
       "    .dataframe tbody tr th {\n",
       "        vertical-align: top;\n",
       "    }\n",
       "\n",
       "    .dataframe thead th {\n",
       "        text-align: right;\n",
       "    }\n",
       "</style>\n",
       "<table border=\"1\" class=\"dataframe\">\n",
       "  <thead>\n",
       "    <tr style=\"text-align: right;\">\n",
       "      <th></th>\n",
       "      <th>Id</th>\n",
       "      <th>Class_0</th>\n",
       "      <th>Class_1</th>\n",
       "    </tr>\n",
       "  </thead>\n",
       "  <tbody>\n",
       "    <tr>\n",
       "      <th>0</th>\n",
       "      <td>00eed32682bb</td>\n",
       "      <td>0.829253</td>\n",
       "      <td>0.170747</td>\n",
       "    </tr>\n",
       "    <tr>\n",
       "      <th>1</th>\n",
       "      <td>010ebe33f668</td>\n",
       "      <td>0.829253</td>\n",
       "      <td>0.170747</td>\n",
       "    </tr>\n",
       "    <tr>\n",
       "      <th>2</th>\n",
       "      <td>02fa521e1838</td>\n",
       "      <td>0.829253</td>\n",
       "      <td>0.170747</td>\n",
       "    </tr>\n",
       "    <tr>\n",
       "      <th>3</th>\n",
       "      <td>040e15f562a2</td>\n",
       "      <td>0.829253</td>\n",
       "      <td>0.170747</td>\n",
       "    </tr>\n",
       "    <tr>\n",
       "      <th>4</th>\n",
       "      <td>046e85c7cc7f</td>\n",
       "      <td>0.829253</td>\n",
       "      <td>0.170747</td>\n",
       "    </tr>\n",
       "  </tbody>\n",
       "</table>\n",
       "</div>"
      ],
      "text/plain": [
       "             Id   Class_0   Class_1\n",
       "0  00eed32682bb  0.829253  0.170747\n",
       "1  010ebe33f668  0.829253  0.170747\n",
       "2  02fa521e1838  0.829253  0.170747\n",
       "3  040e15f562a2  0.829253  0.170747\n",
       "4  046e85c7cc7f  0.829253  0.170747"
      ]
     },
     "execution_count": 13,
     "metadata": {},
     "output_type": "execute_result"
    }
   ],
   "source": [
    "sub.to_csv('submission.csv',index=False)\n",
    "sub.head()"
   ]
  }
 ],
 "metadata": {
  "kernelspec": {
   "display_name": "Python 3",
   "language": "python",
   "name": "python3"
  },
  "language_info": {
   "codemirror_mode": {
    "name": "ipython",
    "version": 3
   },
   "file_extension": ".py",
   "mimetype": "text/x-python",
   "name": "python",
   "nbconvert_exporter": "python",
   "pygments_lexer": "ipython3",
   "version": "3.10.10"
  },
  "papermill": {
   "default_parameters": {},
   "duration": 16.6801,
   "end_time": "2023-05-24T05:48:55.493496",
   "environment_variables": {},
   "exception": null,
   "input_path": "__notebook__.ipynb",
   "output_path": "__notebook__.ipynb",
   "parameters": {},
   "start_time": "2023-05-24T05:48:38.813396",
   "version": "2.4.0"
  }
 },
 "nbformat": 4,
 "nbformat_minor": 5
}
