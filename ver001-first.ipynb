{
 "cells": [
  {
   "cell_type": "code",
   "execution_count": 1,
   "id": "5b3a1f23",
   "metadata": {
    "_cell_guid": "b1076dfc-b9ad-4769-8c92-a6c4dae69d19",
    "_uuid": "8f2839f25d086af736a60e9eeb907d3b93b6e0e5",
    "execution": {
     "iopub.execute_input": "2023-05-20T02:40:20.324348Z",
     "iopub.status.busy": "2023-05-20T02:40:20.323465Z",
     "iopub.status.idle": "2023-05-20T02:40:20.342329Z",
     "shell.execute_reply": "2023-05-20T02:40:20.341126Z"
    },
    "papermill": {
     "duration": 0.030155,
     "end_time": "2023-05-20T02:40:20.345147",
     "exception": false,
     "start_time": "2023-05-20T02:40:20.314992",
     "status": "completed"
    },
    "tags": []
   },
   "outputs": [
    {
     "name": "stdout",
     "output_type": "stream",
     "text": [
      "/kaggle/input/icr-identify-age-related-conditions/sample_submission.csv\n",
      "/kaggle/input/icr-identify-age-related-conditions/greeks.csv\n",
      "/kaggle/input/icr-identify-age-related-conditions/train.csv\n",
      "/kaggle/input/icr-identify-age-related-conditions/test.csv\n"
     ]
    }
   ],
   "source": [
    "# This Python 3 environment comes with many helpful analytics libraries installed\n",
    "# It is defined by the kaggle/python Docker image: https://github.com/kaggle/docker-python\n",
    "# For example, here's several helpful packages to load\n",
    "\n",
    "import numpy as np # linear algebra\n",
    "import pandas as pd # data processing, CSV file I/O (e.g. pd.read_csv)\n",
    "\n",
    "# Input data files are available in the read-only \"../input/\" directory\n",
    "# For example, running this (by clicking run or pressing Shift+Enter) will list all files under the input directory\n",
    "\n",
    "import os\n",
    "for dirname, _, filenames in os.walk('/kaggle/input'):\n",
    "    for filename in filenames:\n",
    "        print(os.path.join(dirname, filename))\n",
    "\n",
    "# You can write up to 20GB to the current directory (/kaggle/working/) that gets preserved as output when you create a version using \"Save & Run All\" \n",
    "# You can also write temporary files to /kaggle/temp/, but they won't be saved outside of the current session"
   ]
  },
  {
   "cell_type": "markdown",
   "id": "7c3c9670",
   "metadata": {
    "papermill": {
     "duration": 0.004334,
     "end_time": "2023-05-20T02:40:20.355120",
     "exception": false,
     "start_time": "2023-05-20T02:40:20.350786",
     "status": "completed"
    },
    "tags": []
   },
   "source": [
    "# Overview\n",
    "this is for making bentmark of model. I learned a lot from below notebook.\n",
    "\n",
    "test a lot.\n",
    "\n",
    "[ICR | Simple EDA & Baseline](https://www.kaggle.com/code/datafan07/icr-simple-eda-baseline)"
   ]
  },
  {
   "cell_type": "code",
   "execution_count": 2,
   "id": "f986f2cf",
   "metadata": {
    "execution": {
     "iopub.execute_input": "2023-05-20T02:40:20.366405Z",
     "iopub.status.busy": "2023-05-20T02:40:20.365574Z",
     "iopub.status.idle": "2023-05-20T02:40:20.431587Z",
     "shell.execute_reply": "2023-05-20T02:40:20.430586Z"
    },
    "papermill": {
     "duration": 0.074886,
     "end_time": "2023-05-20T02:40:20.434526",
     "exception": false,
     "start_time": "2023-05-20T02:40:20.359640",
     "status": "completed"
    },
    "tags": []
   },
   "outputs": [],
   "source": [
    "train = pd.read_csv('/kaggle/input/icr-identify-age-related-conditions/train.csv')\n",
    "test = pd.read_csv('/kaggle/input/icr-identify-age-related-conditions/test.csv')\n",
    "greeks = pd.read_csv('/kaggle/input/icr-identify-age-related-conditions/greeks.csv')"
   ]
  },
  {
   "cell_type": "code",
   "execution_count": 3,
   "id": "166d88b4",
   "metadata": {
    "execution": {
     "iopub.execute_input": "2023-05-20T02:40:20.445067Z",
     "iopub.status.busy": "2023-05-20T02:40:20.444675Z",
     "iopub.status.idle": "2023-05-20T02:40:20.450601Z",
     "shell.execute_reply": "2023-05-20T02:40:20.449455Z"
    },
    "papermill": {
     "duration": 0.014079,
     "end_time": "2023-05-20T02:40:20.453014",
     "exception": false,
     "start_time": "2023-05-20T02:40:20.438935",
     "status": "completed"
    },
    "tags": []
   },
   "outputs": [],
   "source": [
    "train.columns = train.columns.str.strip()\n",
    "test.columns = test.columns.str.strip()"
   ]
  },
  {
   "cell_type": "code",
   "execution_count": 4,
   "id": "a0b68869",
   "metadata": {
    "execution": {
     "iopub.execute_input": "2023-05-20T02:40:20.463459Z",
     "iopub.status.busy": "2023-05-20T02:40:20.463066Z",
     "iopub.status.idle": "2023-05-20T02:40:20.468069Z",
     "shell.execute_reply": "2023-05-20T02:40:20.466950Z"
    },
    "papermill": {
     "duration": 0.013204,
     "end_time": "2023-05-20T02:40:20.470587",
     "exception": false,
     "start_time": "2023-05-20T02:40:20.457383",
     "status": "completed"
    },
    "tags": []
   },
   "outputs": [],
   "source": [
    "num_cols = train.columns.tolist()[1:-1]\n",
    "cat_cols = 'EJ'\n",
    "num_cols.remove(cat_cols)"
   ]
  },
  {
   "cell_type": "code",
   "execution_count": 5,
   "id": "b138b876",
   "metadata": {
    "execution": {
     "iopub.execute_input": "2023-05-20T02:40:20.481846Z",
     "iopub.status.busy": "2023-05-20T02:40:20.481147Z",
     "iopub.status.idle": "2023-05-20T02:40:21.779921Z",
     "shell.execute_reply": "2023-05-20T02:40:21.778702Z"
    },
    "papermill": {
     "duration": 1.307607,
     "end_time": "2023-05-20T02:40:21.783054",
     "exception": false,
     "start_time": "2023-05-20T02:40:20.475447",
     "status": "completed"
    },
    "tags": []
   },
   "outputs": [
    {
     "name": "stderr",
     "output_type": "stream",
     "text": [
      "/opt/conda/lib/python3.10/site-packages/scipy/__init__.py:146: UserWarning: A NumPy version >=1.16.5 and <1.23.0 is required for this version of SciPy (detected version 1.23.5\n",
      "  warnings.warn(f\"A NumPy version >={np_minversion} and <{np_maxversion}\"\n"
     ]
    }
   ],
   "source": [
    "from sklearn.preprocessing import LabelEncoder\n",
    "# Create a LabelEncoder object.\n",
    "encoder = LabelEncoder()\n",
    "# Transform the data.\n",
    "train[cat_cols] = encoder.fit_transform(train[cat_cols])\n",
    "test[cat_cols] = encoder.transform(test[cat_cols])"
   ]
  },
  {
   "cell_type": "code",
   "execution_count": 6,
   "id": "90e50f99",
   "metadata": {
    "execution": {
     "iopub.execute_input": "2023-05-20T02:40:21.794431Z",
     "iopub.status.busy": "2023-05-20T02:40:21.793327Z",
     "iopub.status.idle": "2023-05-20T02:40:37.560437Z",
     "shell.execute_reply": "2023-05-20T02:40:37.558962Z"
    },
    "papermill": {
     "duration": 15.775903,
     "end_time": "2023-05-20T02:40:37.563430",
     "exception": false,
     "start_time": "2023-05-20T02:40:21.787527",
     "status": "completed"
    },
    "tags": []
   },
   "outputs": [
    {
     "name": "stdout",
     "output_type": "stream",
     "text": [
      "Collecting iterative-stratification\r\n",
      "  Downloading iterative_stratification-0.1.7-py3-none-any.whl (8.5 kB)\r\n",
      "Requirement already satisfied: scipy in /opt/conda/lib/python3.10/site-packages (from iterative-stratification) (1.9.3)\r\n",
      "Requirement already satisfied: scikit-learn in /opt/conda/lib/python3.10/site-packages (from iterative-stratification) (1.2.2)\r\n",
      "Requirement already satisfied: numpy in /opt/conda/lib/python3.10/site-packages (from iterative-stratification) (1.23.5)\r\n",
      "Requirement already satisfied: threadpoolctl>=2.0.0 in /opt/conda/lib/python3.10/site-packages (from scikit-learn->iterative-stratification) (3.1.0)\r\n",
      "Requirement already satisfied: joblib>=1.1.1 in /opt/conda/lib/python3.10/site-packages (from scikit-learn->iterative-stratification) (1.2.0)\r\n",
      "Installing collected packages: iterative-stratification\r\n",
      "Successfully installed iterative-stratification-0.1.7\r\n",
      "\u001b[33mWARNING: Running pip as the 'root' user can result in broken permissions and conflicting behaviour with the system package manager. It is recommended to use a virtual environment instead: https://pip.pypa.io/warnings/venv\u001b[0m\u001b[33m\r\n",
      "\u001b[0m"
     ]
    }
   ],
   "source": [
    "oof = np.zeros((len(train), 2))\n",
    "\n",
    "!pip install iterative-stratification\n",
    "from tqdm.auto import tqdm\n",
    "import catboost as cb\n",
    "\n",
    "from iterstrat.ml_stratifiers import MultilabelStratifiedKFold\n",
    "skf = MultilabelStratifiedKFold(n_splits=5, shuffle=True, random_state=42)\n",
    "\n",
    "final_preds = []\n",
    "\n",
    "params={\n",
    "    'iterations':10000,\n",
    "    'learning_rate':0.005,\n",
    "    'early_stopping_rounds':1000,\n",
    "    'auto_class_weights':'Balanced',\n",
    "    'loss_function':'MultiClass',\n",
    "    'eval_metric':'MultiClass:use_weights=True',\n",
    "    'random_seed':42,\n",
    "    'use_best_model':True,\n",
    "    'l2_leaf_reg':1,\n",
    "    'max_ctr_complexity':15,\n",
    "    'max_depth':10,\n",
    "    \"grow_policy\":'Lossguide',\n",
    "    'max_leaves':64,\n",
    "    \"min_data_in_leaf\":40,\n",
    "    }"
   ]
  },
  {
   "cell_type": "code",
   "execution_count": 7,
   "id": "9fb6337e",
   "metadata": {
    "execution": {
     "iopub.execute_input": "2023-05-20T02:40:37.575895Z",
     "iopub.status.busy": "2023-05-20T02:40:37.575427Z",
     "iopub.status.idle": "2023-05-20T02:43:26.149878Z",
     "shell.execute_reply": "2023-05-20T02:43:26.148872Z"
    },
    "papermill": {
     "duration": 168.583678,
     "end_time": "2023-05-20T02:43:26.152412",
     "exception": false,
     "start_time": "2023-05-20T02:40:37.568734",
     "status": "completed"
    },
    "tags": []
   },
   "outputs": [
    {
     "name": "stdout",
     "output_type": "stream",
     "text": [
      "0:\tlearn: 0.6907267\ttest: 0.6912612\tbest: 0.6912612 (0)\ttotal: 69.4ms\tremaining: 11m 34s\n",
      "1000:\tlearn: 0.0998772\ttest: 0.3644460\tbest: 0.3633853 (992)\ttotal: 10.9s\tremaining: 1m 37s\n",
      "Stopped by overfitting detector  (1000 iterations wait)\n",
      "\n",
      "bestTest = 0.3633853116\n",
      "bestIteration = 992\n",
      "\n",
      "Shrink model to first 993 iterations.\n",
      "0:\tlearn: 0.6909054\ttest: 0.6911446\tbest: 0.6911446 (0)\ttotal: 11.6ms\tremaining: 1m 55s\n",
      "1000:\tlearn: 0.1053599\ttest: 0.2726799\tbest: 0.2726799 (1000)\ttotal: 10.9s\tremaining: 1m 38s\n",
      "2000:\tlearn: 0.0230848\ttest: 0.2533569\tbest: 0.2511949 (1708)\ttotal: 21.9s\tremaining: 1m 27s\n",
      "Stopped by overfitting detector  (1000 iterations wait)\n",
      "\n",
      "bestTest = 0.2511949429\n",
      "bestIteration = 1708\n",
      "\n",
      "Shrink model to first 1709 iterations.\n",
      "0:\tlearn: 0.6907639\ttest: 0.6910948\tbest: 0.6910948 (0)\ttotal: 11.2ms\tremaining: 1m 52s\n",
      "1000:\tlearn: 0.1025662\ttest: 0.2475667\tbest: 0.2475667 (1000)\ttotal: 11s\tremaining: 1m 38s\n",
      "2000:\tlearn: 0.0239101\ttest: 0.1919123\tbest: 0.1919123 (2000)\ttotal: 21.7s\tremaining: 1m 26s\n",
      "3000:\tlearn: 0.0091598\ttest: 0.1813448\tbest: 0.1812699 (2988)\ttotal: 32s\tremaining: 1m 14s\n",
      "4000:\tlearn: 0.0051608\ttest: 0.1803232\tbest: 0.1800099 (3790)\ttotal: 41.5s\tremaining: 1m 2s\n",
      "5000:\tlearn: 0.0034727\ttest: 0.1803018\tbest: 0.1798119 (4434)\ttotal: 50.9s\tremaining: 50.9s\n",
      "Stopped by overfitting detector  (1000 iterations wait)\n",
      "\n",
      "bestTest = 0.1798118535\n",
      "bestIteration = 4434\n",
      "\n",
      "Shrink model to first 4435 iterations.\n",
      "0:\tlearn: 0.6906724\ttest: 0.6912569\tbest: 0.6912569 (0)\ttotal: 7.72ms\tremaining: 1m 17s\n",
      "1000:\tlearn: 0.1068720\ttest: 0.2770230\tbest: 0.2770230 (1000)\ttotal: 11.4s\tremaining: 1m 42s\n",
      "2000:\tlearn: 0.0246327\ttest: 0.2459814\tbest: 0.2436287 (1871)\ttotal: 22.4s\tremaining: 1m 29s\n",
      "Stopped by overfitting detector  (1000 iterations wait)\n",
      "\n",
      "bestTest = 0.2436287341\n",
      "bestIteration = 1871\n",
      "\n",
      "Shrink model to first 1872 iterations.\n",
      "0:\tlearn: 0.6904071\ttest: 0.6908799\tbest: 0.6908799 (0)\ttotal: 11.4ms\tremaining: 1m 54s\n",
      "1000:\tlearn: 0.1008051\ttest: 0.3053010\tbest: 0.3053010 (1000)\ttotal: 11.5s\tremaining: 1m 43s\n",
      "2000:\tlearn: 0.0230935\ttest: 0.3081578\tbest: 0.2927500 (1462)\ttotal: 22.1s\tremaining: 1m 28s\n",
      "Stopped by overfitting detector  (1000 iterations wait)\n",
      "\n",
      "bestTest = 0.2927500089\n",
      "bestIteration = 1462\n",
      "\n",
      "Shrink model to first 1463 iterations.\n"
     ]
    }
   ],
   "source": [
    "for train_index,val_index in skf.split(train, greeks.iloc[:,1:-1]):\n",
    "\n",
    "    X_train, X_val = train.loc[train_index, num_cols + [cat_cols]], train.loc[val_index, num_cols + [cat_cols]]\n",
    "    y_train, y_val = train.loc[train_index, 'Class'], train.loc[val_index, 'Class']\n",
    "    \n",
    "    \n",
    "    model = cb.CatBoostClassifier(**params)\n",
    "    model.fit(X_train,y_train,eval_set=[(X_val,y_val)], verbose=1000)\n",
    "    preds = model.predict_proba(X_val)\n",
    "    oof[val_index, :] = preds\n",
    "    final_preds.append(model.predict_proba(test.iloc[:,1:]))"
   ]
  },
  {
   "cell_type": "code",
   "execution_count": 8,
   "id": "acb4c97c",
   "metadata": {
    "execution": {
     "iopub.execute_input": "2023-05-20T02:43:26.167641Z",
     "iopub.status.busy": "2023-05-20T02:43:26.167179Z",
     "iopub.status.idle": "2023-05-20T02:43:26.184990Z",
     "shell.execute_reply": "2023-05-20T02:43:26.183816Z"
    },
    "papermill": {
     "duration": 0.028585,
     "end_time": "2023-05-20T02:43:26.187734",
     "exception": false,
     "start_time": "2023-05-20T02:43:26.159149",
     "status": "completed"
    },
    "tags": []
   },
   "outputs": [
    {
     "name": "stdout",
     "output_type": "stream",
     "text": [
      "0.2667928240388374\n"
     ]
    }
   ],
   "source": [
    "from sklearn.metrics import log_loss\n",
    "\n",
    "def balance_loglossv2(y_true, y_pred):\n",
    "    target_mean = y_true.mean()\n",
    "    w0 = 1/(1-target_mean)\n",
    "    w1 = 1/target_mean\n",
    "    sample_weight = [w0 if y == 0 else w1 for y in y_true]\n",
    "    loss = log_loss(y_true, y_pred, sample_weight=sample_weight)\n",
    "    \n",
    "    return loss\n",
    "\n",
    "print(balance_loglossv2(train['Class'], oof))"
   ]
  },
  {
   "cell_type": "code",
   "execution_count": 9,
   "id": "155939f8",
   "metadata": {
    "execution": {
     "iopub.execute_input": "2023-05-20T02:43:26.202990Z",
     "iopub.status.busy": "2023-05-20T02:43:26.202583Z",
     "iopub.status.idle": "2023-05-20T02:43:26.246798Z",
     "shell.execute_reply": "2023-05-20T02:43:26.245624Z"
    },
    "papermill": {
     "duration": 0.054864,
     "end_time": "2023-05-20T02:43:26.249457",
     "exception": false,
     "start_time": "2023-05-20T02:43:26.194593",
     "status": "completed"
    },
    "tags": []
   },
   "outputs": [
    {
     "data": {
      "text/html": [
       "<div>\n",
       "<style scoped>\n",
       "    .dataframe tbody tr th:only-of-type {\n",
       "        vertical-align: middle;\n",
       "    }\n",
       "\n",
       "    .dataframe tbody tr th {\n",
       "        vertical-align: top;\n",
       "    }\n",
       "\n",
       "    .dataframe thead th {\n",
       "        text-align: right;\n",
       "    }\n",
       "</style>\n",
       "<table border=\"1\" class=\"dataframe\">\n",
       "  <thead>\n",
       "    <tr style=\"text-align: right;\">\n",
       "      <th></th>\n",
       "      <th>Id</th>\n",
       "      <th>class_0</th>\n",
       "      <th>class_1</th>\n",
       "    </tr>\n",
       "  </thead>\n",
       "  <tbody>\n",
       "    <tr>\n",
       "      <th>0</th>\n",
       "      <td>00eed32682bb</td>\n",
       "      <td>0.774959</td>\n",
       "      <td>0.225041</td>\n",
       "    </tr>\n",
       "    <tr>\n",
       "      <th>1</th>\n",
       "      <td>010ebe33f668</td>\n",
       "      <td>0.774959</td>\n",
       "      <td>0.225041</td>\n",
       "    </tr>\n",
       "    <tr>\n",
       "      <th>2</th>\n",
       "      <td>02fa521e1838</td>\n",
       "      <td>0.774959</td>\n",
       "      <td>0.225041</td>\n",
       "    </tr>\n",
       "    <tr>\n",
       "      <th>3</th>\n",
       "      <td>040e15f562a2</td>\n",
       "      <td>0.774959</td>\n",
       "      <td>0.225041</td>\n",
       "    </tr>\n",
       "    <tr>\n",
       "      <th>4</th>\n",
       "      <td>046e85c7cc7f</td>\n",
       "      <td>0.774959</td>\n",
       "      <td>0.225041</td>\n",
       "    </tr>\n",
       "  </tbody>\n",
       "</table>\n",
       "</div>"
      ],
      "text/plain": [
       "             Id   class_0   class_1\n",
       "0  00eed32682bb  0.774959  0.225041\n",
       "1  010ebe33f668  0.774959  0.225041\n",
       "2  02fa521e1838  0.774959  0.225041\n",
       "3  040e15f562a2  0.774959  0.225041\n",
       "4  046e85c7cc7f  0.774959  0.225041"
      ]
     },
     "execution_count": 9,
     "metadata": {},
     "output_type": "execute_result"
    }
   ],
   "source": [
    "sample_submission = pd.read_csv('/kaggle/input/icr-identify-age-related-conditions/sample_submission.csv')\n",
    "sample_submission[['class_0','class_1']] = np.mean(final_preds, axis=0)\n",
    "sample_submission.to_csv('submission.csv',index=False)\n",
    "sample_submission"
   ]
  }
 ],
 "metadata": {
  "kernelspec": {
   "display_name": "Python 3",
   "language": "python",
   "name": "python3"
  },
  "language_info": {
   "codemirror_mode": {
    "name": "ipython",
    "version": 3
   },
   "file_extension": ".py",
   "mimetype": "text/x-python",
   "name": "python",
   "nbconvert_exporter": "python",
   "pygments_lexer": "ipython3",
   "version": "3.10.10"
  },
  "papermill": {
   "default_parameters": {},
   "duration": 200.045474,
   "end_time": "2023-05-20T02:43:27.380584",
   "environment_variables": {},
   "exception": null,
   "input_path": "__notebook__.ipynb",
   "output_path": "__notebook__.ipynb",
   "parameters": {},
   "start_time": "2023-05-20T02:40:07.335110",
   "version": "2.4.0"
  }
 },
 "nbformat": 4,
 "nbformat_minor": 5
}
