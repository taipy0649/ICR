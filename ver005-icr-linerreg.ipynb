{
 "cells": [
  {
   "cell_type": "markdown",
   "id": "5242b0d1",
   "metadata": {
    "papermill": {
     "duration": 0.006401,
     "end_time": "2023-05-21T09:20:03.034639",
     "exception": false,
     "start_time": "2023-05-21T09:20:03.028238",
     "status": "completed"
    },
    "tags": []
   },
   "source": [
    "# Overview\n",
    "Goal: make bentmark using liner regression\n",
    "\n",
    "How:\n",
    "\n",
    "results:"
   ]
  },
  {
   "cell_type": "markdown",
   "id": "fa97b3a1",
   "metadata": {
    "papermill": {
     "duration": 0.005567,
     "end_time": "2023-05-21T09:20:03.046680",
     "exception": false,
     "start_time": "2023-05-21T09:20:03.041113",
     "status": "completed"
    },
    "tags": []
   },
   "source": [
    "# Preprocess the data\n",
    "+ fill na with average\n",
    "+ encode categorical data not one-hot encoding"
   ]
  },
  {
   "cell_type": "code",
   "execution_count": 1,
   "id": "7ac7254d",
   "metadata": {
    "execution": {
     "iopub.execute_input": "2023-05-21T09:20:03.060692Z",
     "iopub.status.busy": "2023-05-21T09:20:03.060297Z",
     "iopub.status.idle": "2023-05-21T09:20:03.116848Z",
     "shell.execute_reply": "2023-05-21T09:20:03.115593Z"
    },
    "papermill": {
     "duration": 0.06702,
     "end_time": "2023-05-21T09:20:03.119763",
     "exception": false,
     "start_time": "2023-05-21T09:20:03.052743",
     "status": "completed"
    },
    "tags": []
   },
   "outputs": [],
   "source": [
    "import pandas as pd\n",
    "import numpy as np\n",
    "\n",
    "train = pd.read_csv('/kaggle/input/icr-identify-age-related-conditions/train.csv')\n",
    "test = pd.read_csv('/kaggle/input/icr-identify-age-related-conditions/test.csv')"
   ]
  },
  {
   "cell_type": "code",
   "execution_count": 2,
   "id": "a8e67a85",
   "metadata": {
    "execution": {
     "iopub.execute_input": "2023-05-21T09:20:03.134037Z",
     "iopub.status.busy": "2023-05-21T09:20:03.133628Z",
     "iopub.status.idle": "2023-05-21T09:20:03.138856Z",
     "shell.execute_reply": "2023-05-21T09:20:03.137579Z"
    },
    "papermill": {
     "duration": 0.015362,
     "end_time": "2023-05-21T09:20:03.141376",
     "exception": false,
     "start_time": "2023-05-21T09:20:03.126014",
     "status": "completed"
    },
    "tags": []
   },
   "outputs": [],
   "source": [
    "num_cols = train.columns.tolist()[1:-1]\n",
    "cat_cols = 'EJ'"
   ]
  },
  {
   "cell_type": "code",
   "execution_count": 3,
   "id": "18a86c95",
   "metadata": {
    "execution": {
     "iopub.execute_input": "2023-05-21T09:20:03.155039Z",
     "iopub.status.busy": "2023-05-21T09:20:03.154657Z",
     "iopub.status.idle": "2023-05-21T09:20:03.188747Z",
     "shell.execute_reply": "2023-05-21T09:20:03.187469Z"
    },
    "papermill": {
     "duration": 0.044524,
     "end_time": "2023-05-21T09:20:03.191884",
     "exception": false,
     "start_time": "2023-05-21T09:20:03.147360",
     "status": "completed"
    },
    "tags": []
   },
   "outputs": [
    {
     "name": "stderr",
     "output_type": "stream",
     "text": [
      "/tmp/ipykernel_20/131696701.py:2: FutureWarning: The default value of numeric_only in DataFrame.mean is deprecated. In a future version, it will default to False. In addition, specifying 'numeric_only=None' is deprecated. Select only valid columns or specify the value of numeric_only to silence this warning.\n",
      "  train = train.fillna(train.mean())\n"
     ]
    }
   ],
   "source": [
    "# fill nan to average\n",
    "train = train.fillna(train.mean())"
   ]
  },
  {
   "cell_type": "code",
   "execution_count": 4,
   "id": "2b23ad3b",
   "metadata": {
    "execution": {
     "iopub.execute_input": "2023-05-21T09:20:03.206674Z",
     "iopub.status.busy": "2023-05-21T09:20:03.206083Z",
     "iopub.status.idle": "2023-05-21T09:20:04.652655Z",
     "shell.execute_reply": "2023-05-21T09:20:04.651544Z"
    },
    "papermill": {
     "duration": 1.457446,
     "end_time": "2023-05-21T09:20:04.655397",
     "exception": false,
     "start_time": "2023-05-21T09:20:03.197951",
     "status": "completed"
    },
    "tags": []
   },
   "outputs": [
    {
     "name": "stderr",
     "output_type": "stream",
     "text": [
      "/opt/conda/lib/python3.10/site-packages/scipy/__init__.py:146: UserWarning: A NumPy version >=1.16.5 and <1.23.0 is required for this version of SciPy (detected version 1.23.5\n",
      "  warnings.warn(f\"A NumPy version >={np_minversion} and <{np_maxversion}\"\n"
     ]
    }
   ],
   "source": [
    "# label encoding\n",
    "# categorical data to encoded data\n",
    "from sklearn.preprocessing import LabelEncoder\n",
    "le = LabelEncoder()\n",
    "# fit メソッドでラベルを覚えさせる\n",
    "le.fit(train[\"EJ\"])\n",
    "# transform メソッドで数値に変換する\n",
    "train[\"EJ\"] = le.transform(train[\"EJ\"])"
   ]
  },
  {
   "cell_type": "code",
   "execution_count": 5,
   "id": "d880de29",
   "metadata": {
    "execution": {
     "iopub.execute_input": "2023-05-21T09:20:04.670963Z",
     "iopub.status.busy": "2023-05-21T09:20:04.670306Z",
     "iopub.status.idle": "2023-05-21T09:20:04.686474Z",
     "shell.execute_reply": "2023-05-21T09:20:04.684982Z"
    },
    "papermill": {
     "duration": 0.027612,
     "end_time": "2023-05-21T09:20:04.689785",
     "exception": false,
     "start_time": "2023-05-21T09:20:04.662173",
     "status": "completed"
    },
    "tags": []
   },
   "outputs": [],
   "source": [
    "# X and y\n",
    "X = train[num_cols]\n",
    "y = train['Class']"
   ]
  },
  {
   "cell_type": "markdown",
   "id": "3970e7b6",
   "metadata": {
    "papermill": {
     "duration": 0.00633,
     "end_time": "2023-05-21T09:20:04.703310",
     "exception": false,
     "start_time": "2023-05-21T09:20:04.696980",
     "status": "completed"
    },
    "tags": []
   },
   "source": [
    "# Build the model"
   ]
  },
  {
   "cell_type": "code",
   "execution_count": 6,
   "id": "a76567d6",
   "metadata": {
    "execution": {
     "iopub.execute_input": "2023-05-21T09:20:04.717680Z",
     "iopub.status.busy": "2023-05-21T09:20:04.717243Z",
     "iopub.status.idle": "2023-05-21T09:20:05.750474Z",
     "shell.execute_reply": "2023-05-21T09:20:05.748792Z"
    },
    "papermill": {
     "duration": 1.0473,
     "end_time": "2023-05-21T09:20:05.756932",
     "exception": false,
     "start_time": "2023-05-21T09:20:04.709632",
     "status": "completed"
    },
    "tags": []
   },
   "outputs": [
    {
     "name": "stdout",
     "output_type": "stream",
     "text": [
      "0.9011345218800648\n"
     ]
    },
    {
     "name": "stderr",
     "output_type": "stream",
     "text": [
      "/opt/conda/lib/python3.10/site-packages/sklearn/linear_model/_logistic.py:458: ConvergenceWarning: lbfgs failed to converge (status=1):\n",
      "STOP: TOTAL NO. of ITERATIONS REACHED LIMIT.\n",
      "\n",
      "Increase the number of iterations (max_iter) or scale the data as shown in:\n",
      "    https://scikit-learn.org/stable/modules/preprocessing.html\n",
      "Please also refer to the documentation for alternative solver options:\n",
      "    https://scikit-learn.org/stable/modules/linear_model.html#logistic-regression\n",
      "  n_iter_i = _check_optimize_result(\n"
     ]
    }
   ],
   "source": [
    "# モデルの作成\n",
    "from sklearn.linear_model import LogisticRegression\n",
    "model = LogisticRegression(max_iter=1500)\n",
    "\n",
    "# モデルの学習\n",
    "model.fit(X, y)\n",
    "\n",
    "# モデルの予測\n",
    "y_pred = model.predict(X)\n",
    "\n",
    "# モデルの評価\n",
    "score = model.score(X, y)\n",
    "print(score) # 0.9733333333333334"
   ]
  },
  {
   "cell_type": "markdown",
   "id": "67190e79",
   "metadata": {
    "papermill": {
     "duration": 0.012175,
     "end_time": "2023-05-21T09:20:05.782679",
     "exception": false,
     "start_time": "2023-05-21T09:20:05.770504",
     "status": "completed"
    },
    "tags": []
   },
   "source": [
    "# Output the prediction results"
   ]
  },
  {
   "cell_type": "code",
   "execution_count": 7,
   "id": "19e0e046",
   "metadata": {
    "execution": {
     "iopub.execute_input": "2023-05-21T09:20:05.812929Z",
     "iopub.status.busy": "2023-05-21T09:20:05.812196Z",
     "iopub.status.idle": "2023-05-21T09:20:05.827779Z",
     "shell.execute_reply": "2023-05-21T09:20:05.826134Z"
    },
    "papermill": {
     "duration": 0.037563,
     "end_time": "2023-05-21T09:20:05.833607",
     "exception": false,
     "start_time": "2023-05-21T09:20:05.796044",
     "status": "completed"
    },
    "tags": []
   },
   "outputs": [],
   "source": [
    "# X\n",
    "test = test[num_cols]"
   ]
  },
  {
   "cell_type": "code",
   "execution_count": 8,
   "id": "37f403ed",
   "metadata": {
    "execution": {
     "iopub.execute_input": "2023-05-21T09:20:05.863101Z",
     "iopub.status.busy": "2023-05-21T09:20:05.862397Z",
     "iopub.status.idle": "2023-05-21T09:20:05.868695Z",
     "shell.execute_reply": "2023-05-21T09:20:05.867820Z"
    },
    "papermill": {
     "duration": 0.024868,
     "end_time": "2023-05-21T09:20:05.872572",
     "exception": false,
     "start_time": "2023-05-21T09:20:05.847704",
     "status": "completed"
    },
    "tags": []
   },
   "outputs": [],
   "source": [
    "test['EJ'] = le.transform(test['EJ'])"
   ]
  },
  {
   "cell_type": "code",
   "execution_count": 9,
   "id": "f2d0cad3",
   "metadata": {
    "execution": {
     "iopub.execute_input": "2023-05-21T09:20:05.887226Z",
     "iopub.status.busy": "2023-05-21T09:20:05.886417Z",
     "iopub.status.idle": "2023-05-21T09:20:05.895782Z",
     "shell.execute_reply": "2023-05-21T09:20:05.894502Z"
    },
    "papermill": {
     "duration": 0.019634,
     "end_time": "2023-05-21T09:20:05.898327",
     "exception": false,
     "start_time": "2023-05-21T09:20:05.878693",
     "status": "completed"
    },
    "tags": []
   },
   "outputs": [
    {
     "data": {
      "text/plain": [
       "0    0\n",
       "1    0\n",
       "2    0\n",
       "3    0\n",
       "4    0\n",
       "Name: EJ, dtype: int64"
      ]
     },
     "execution_count": 9,
     "metadata": {},
     "output_type": "execute_result"
    }
   ],
   "source": [
    "test[\"EJ\"]"
   ]
  },
  {
   "cell_type": "code",
   "execution_count": 10,
   "id": "611868a6",
   "metadata": {
    "execution": {
     "iopub.execute_input": "2023-05-21T09:20:05.913850Z",
     "iopub.status.busy": "2023-05-21T09:20:05.913016Z",
     "iopub.status.idle": "2023-05-21T09:20:05.922549Z",
     "shell.execute_reply": "2023-05-21T09:20:05.921111Z"
    },
    "papermill": {
     "duration": 0.02037,
     "end_time": "2023-05-21T09:20:05.925344",
     "exception": false,
     "start_time": "2023-05-21T09:20:05.904974",
     "status": "completed"
    },
    "tags": []
   },
   "outputs": [
    {
     "name": "stdout",
     "output_type": "stream",
     "text": [
      "[0 0 0 0 0]\n"
     ]
    }
   ],
   "source": [
    "# predict data\n",
    "# モデルの予測\n",
    "y_pred = model.predict(test)\n",
    "print(y_pred)"
   ]
  },
  {
   "cell_type": "code",
   "execution_count": 11,
   "id": "dc7fa5b2",
   "metadata": {
    "execution": {
     "iopub.execute_input": "2023-05-21T09:20:05.940471Z",
     "iopub.status.busy": "2023-05-21T09:20:05.940060Z",
     "iopub.status.idle": "2023-05-21T09:20:05.950021Z",
     "shell.execute_reply": "2023-05-21T09:20:05.948818Z"
    },
    "papermill": {
     "duration": 0.020663,
     "end_time": "2023-05-21T09:20:05.952671",
     "exception": false,
     "start_time": "2023-05-21T09:20:05.932008",
     "status": "completed"
    },
    "tags": []
   },
   "outputs": [
    {
     "name": "stdout",
     "output_type": "stream",
     "text": [
      "[[0.50005067 0.49994933]\n",
      " [0.50005067 0.49994933]\n",
      " [0.50005067 0.49994933]\n",
      " [0.50005067 0.49994933]\n",
      " [0.50005067 0.49994933]]\n"
     ]
    }
   ],
   "source": [
    "# モデルの予測\n",
    "y_prob = model.predict_proba(test)\n",
    "\n",
    "# 確率の表示\n",
    "print(y_prob)"
   ]
  },
  {
   "cell_type": "code",
   "execution_count": 12,
   "id": "4d4217d7",
   "metadata": {
    "execution": {
     "iopub.execute_input": "2023-05-21T09:20:05.967611Z",
     "iopub.status.busy": "2023-05-21T09:20:05.967222Z",
     "iopub.status.idle": "2023-05-21T09:20:05.975323Z",
     "shell.execute_reply": "2023-05-21T09:20:05.973976Z"
    },
    "papermill": {
     "duration": 0.018623,
     "end_time": "2023-05-21T09:20:05.977830",
     "exception": false,
     "start_time": "2023-05-21T09:20:05.959207",
     "status": "completed"
    },
    "tags": []
   },
   "outputs": [],
   "source": [
    "def balance_logloss(y_true, y_pred):\n",
    "    y_pred = np.clip(y_pred, 1e-15, 1-1e-15)\n",
    "    y_pred / np.sum(y_pred, axis=1)[:, None]\n",
    "    nc = np.bincount(y_true)\n",
    "    \n",
    "    logloss = (-1/nc[0]*(np.sum(np.where(y_true==0,1,0) * np.log(y_pred[:,0]))) - 1/nc[1]*(np.sum(np.where(y_true!=0,1,0) * np.log(y_pred[:,1])))) / 2\n",
    "    \n",
    "    return logloss"
   ]
  },
  {
   "cell_type": "code",
   "execution_count": 13,
   "id": "e7e9115e",
   "metadata": {
    "execution": {
     "iopub.execute_input": "2023-05-21T09:20:05.993141Z",
     "iopub.status.busy": "2023-05-21T09:20:05.992712Z",
     "iopub.status.idle": "2023-05-21T09:20:06.031196Z",
     "shell.execute_reply": "2023-05-21T09:20:06.030142Z"
    },
    "papermill": {
     "duration": 0.049262,
     "end_time": "2023-05-21T09:20:06.033908",
     "exception": false,
     "start_time": "2023-05-21T09:20:05.984646",
     "status": "completed"
    },
    "tags": []
   },
   "outputs": [
    {
     "data": {
      "text/html": [
       "<div>\n",
       "<style scoped>\n",
       "    .dataframe tbody tr th:only-of-type {\n",
       "        vertical-align: middle;\n",
       "    }\n",
       "\n",
       "    .dataframe tbody tr th {\n",
       "        vertical-align: top;\n",
       "    }\n",
       "\n",
       "    .dataframe thead th {\n",
       "        text-align: right;\n",
       "    }\n",
       "</style>\n",
       "<table border=\"1\" class=\"dataframe\">\n",
       "  <thead>\n",
       "    <tr style=\"text-align: right;\">\n",
       "      <th></th>\n",
       "      <th>Id</th>\n",
       "      <th>class_0</th>\n",
       "      <th>class_1</th>\n",
       "    </tr>\n",
       "  </thead>\n",
       "  <tbody>\n",
       "    <tr>\n",
       "      <th>0</th>\n",
       "      <td>00eed32682bb</td>\n",
       "      <td>0.500051</td>\n",
       "      <td>0.499949</td>\n",
       "    </tr>\n",
       "    <tr>\n",
       "      <th>1</th>\n",
       "      <td>010ebe33f668</td>\n",
       "      <td>0.500051</td>\n",
       "      <td>0.499949</td>\n",
       "    </tr>\n",
       "    <tr>\n",
       "      <th>2</th>\n",
       "      <td>02fa521e1838</td>\n",
       "      <td>0.500051</td>\n",
       "      <td>0.499949</td>\n",
       "    </tr>\n",
       "    <tr>\n",
       "      <th>3</th>\n",
       "      <td>040e15f562a2</td>\n",
       "      <td>0.500051</td>\n",
       "      <td>0.499949</td>\n",
       "    </tr>\n",
       "    <tr>\n",
       "      <th>4</th>\n",
       "      <td>046e85c7cc7f</td>\n",
       "      <td>0.500051</td>\n",
       "      <td>0.499949</td>\n",
       "    </tr>\n",
       "  </tbody>\n",
       "</table>\n",
       "</div>"
      ],
      "text/plain": [
       "             Id   class_0   class_1\n",
       "0  00eed32682bb  0.500051  0.499949\n",
       "1  010ebe33f668  0.500051  0.499949\n",
       "2  02fa521e1838  0.500051  0.499949\n",
       "3  040e15f562a2  0.500051  0.499949\n",
       "4  046e85c7cc7f  0.500051  0.499949"
      ]
     },
     "execution_count": 13,
     "metadata": {},
     "output_type": "execute_result"
    }
   ],
   "source": [
    "sample_submission = pd.read_csv('/kaggle/input/icr-identify-age-related-conditions/sample_submission.csv')\n",
    "sample_submission[['class_0','class_1']] = y_prob\n",
    "sample_submission.to_csv('submission.csv',index=False)\n",
    "sample_submission"
   ]
  }
 ],
 "metadata": {
  "kernelspec": {
   "display_name": "Python 3",
   "language": "python",
   "name": "python3"
  },
  "language_info": {
   "codemirror_mode": {
    "name": "ipython",
    "version": 3
   },
   "file_extension": ".py",
   "mimetype": "text/x-python",
   "name": "python",
   "nbconvert_exporter": "python",
   "pygments_lexer": "ipython3",
   "version": "3.10.10"
  },
  "papermill": {
   "default_parameters": {},
   "duration": 17.584035,
   "end_time": "2023-05-21T09:20:07.066994",
   "environment_variables": {},
   "exception": null,
   "input_path": "__notebook__.ipynb",
   "output_path": "__notebook__.ipynb",
   "parameters": {},
   "start_time": "2023-05-21T09:19:49.482959",
   "version": "2.4.0"
  }
 },
 "nbformat": 4,
 "nbformat_minor": 5
}
